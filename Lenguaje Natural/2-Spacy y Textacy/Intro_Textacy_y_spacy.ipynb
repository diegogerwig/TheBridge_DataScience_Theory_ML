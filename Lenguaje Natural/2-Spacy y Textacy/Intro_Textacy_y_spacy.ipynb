{
  "cells": [
    {
      "attachments": {},
      "cell_type": "markdown",
      "metadata": {
        "id": "dM0AU5JmpZa3"
      },
      "source": [
        "# Textacy & Spacy\n",
        "\n",
        "Librerías de procesado de NLP.\n",
        "\n",
        "## Instalación\n",
        "\n",
        "Ejecutar la instalación habitual:\n",
        "\n",
        "```sh\n",
        "!pip install spacy textacy\n",
        "!python -m spacy download en_core_web_lg\n",
        "!python -m spacy download es_core_news_lg\n",
        "```\n",
        "\n",
        "Después hay que reiniciar el entorno de ejecución. Para siguientes ejecuciones, solo ejecutar esto y reiniciar después el entorno."
      ]
    },
    {
      "attachments": {},
      "cell_type": "markdown",
      "metadata": {
        "id": "A5rKVBF0pKa6"
      },
      "source": [
        "# Spacy\n",
        "https://spacy.io/\n",
        "\n",
        "NOTA: Recuerda reiniciar el entorno de ejecucion despues de la instalacion"
      ]
    },
    {
      "cell_type": "code",
      "execution_count": 1,
      "metadata": {
        "id": "g5__omBtznMg"
      },
      "outputs": [],
      "source": [
        "import spacy\n",
        "\n",
        "nlp = spacy.load('en_core_web_lg')"
      ]
    },
    {
      "attachments": {},
      "cell_type": "markdown",
      "metadata": {
        "id": "XvUcxUvRx3CT"
      },
      "source": [
        "## Text basics\n",
        "Veamos como trabajar cn estos primeros ejemplos con la libreria ´spacy´. Cosas que podemos hacer:\n",
        "1. Tokenizar en frases\n",
        "2. Tokenizar en palabras\n",
        "3. Acceder a los atributos de cada token\n",
        "4. Acceder a las entidades del texto\n",
        "5. Visualizar las entidades del texto"
      ]
    },
    {
      "cell_type": "code",
      "execution_count": 3,
      "metadata": {
        "colab": {
          "base_uri": "https://localhost:8080/"
        },
        "id": "yx7f0Wv9ul01",
        "outputId": "da5d47cf-de20-4e1e-ebcc-d4ee4e09b77b"
      },
      "outputs": [
        {
          "name": "stdout",
          "output_type": "stream",
          "text": [
            "\n",
            "London is the capital and most populous city of England and \n",
            "the United Kingdom.  Standing on the River Thames in the south east \n",
            "of the island of Great Britain, London has been a major settlement \n",
            "for two millennia. It was founded by the Romans, who named it Londinium.\n",
            "\n"
          ]
        }
      ],
      "source": [
        "# The text we want to examine\n",
        "text = \"\"\"\n",
        "London is the capital and most populous city of England and \n",
        "the United Kingdom.  Standing on the River Thames in the south east \n",
        "of the island of Great Britain, London has been a major settlement \n",
        "for two millennia. It was founded by the Romans, who named it Londinium.\n",
        "\"\"\"\n",
        "\n",
        "doc = nlp(text)\n",
        "\n",
        "print(doc)\n"
      ]
    },
    {
      "cell_type": "code",
      "execution_count": 5,
      "metadata": {},
      "outputs": [
        {
          "name": "stdout",
          "output_type": "stream",
          "text": [
            "0  :  \n",
            "London is the capital and most populous city of England and \n",
            "the United Kingdom.  \n",
            "1  :  Standing on the River Thames in the south east \n",
            "of the island of Great Britain, London has been a major settlement \n",
            "for two millennia.\n",
            "2  :  It was founded by the Romans, who named it Londinium.\n",
            "\n"
          ]
        }
      ],
      "source": [
        "for num, sentence in enumerate(doc.sents):\n",
        "  print(num, \" : \", sentence)"
      ]
    },
    {
      "cell_type": "code",
      "execution_count": 6,
      "metadata": {},
      "outputs": [
        {
          "name": "stdout",
          "output_type": "stream",
          "text": [
            "\n",
            " \n",
            " SPACE False\n",
            "London London PROPN False\n",
            "is be AUX True\n",
            "the the DET True\n",
            "capital capital NOUN False\n",
            "and and CCONJ True\n",
            "most most ADV True\n",
            "populous populous ADJ False\n",
            "city city NOUN False\n",
            "of of ADP True\n",
            "England England PROPN False\n",
            "and and CCONJ True\n",
            "\n",
            " \n",
            " SPACE False\n",
            "the the DET True\n",
            "United United PROPN False\n",
            "Kingdom Kingdom PROPN False\n",
            ". . PUNCT False\n",
            "    SPACE False\n",
            "Standing stand VERB False\n",
            "on on ADP True\n"
          ]
        }
      ],
      "source": [
        "for word in doc[:20]:\n",
        "  print(word.text, word.lemma_, word.pos_, word.is_stop)"
      ]
    },
    {
      "cell_type": "code",
      "execution_count": 7,
      "metadata": {
        "colab": {
          "base_uri": "https://localhost:8080/"
        },
        "id": "JIe3TYa9RNfm",
        "outputId": "f90a4cd9-f411-41e5-a000-750fb5f88e7d"
      },
      "outputs": [
        {
          "data": {
            "text/plain": [
              "spacy.tokens.doc.Doc"
            ]
          },
          "execution_count": 7,
          "metadata": {},
          "output_type": "execute_result"
        }
      ],
      "source": [
        "type(doc)"
      ]
    },
    {
      "attachments": {},
      "cell_type": "markdown",
      "metadata": {
        "id": "UpBWJ2gby81T"
      },
      "source": [
        "## Syntactic analysis\n",
        "\n",
        "El análisis sintáctico de una frase es algo que siempre sa dolores de cabeza. Gracias a Spacy podemos obtenerlo de manera automatizada."
      ]
    },
    {
      "cell_type": "code",
      "execution_count": 8,
      "metadata": {
        "colab": {
          "base_uri": "https://localhost:8080/",
          "height": 615
        },
        "id": "9N42WYyyy86b",
        "outputId": "f2d56011-4783-4711-f8f7-445f2a46dfd2"
      },
      "outputs": [
        {
          "data": {
            "text/html": [
              "<span class=\"tex2jax_ignore\"><svg xmlns=\"http://www.w3.org/2000/svg\" xmlns:xlink=\"http://www.w3.org/1999/xlink\" xml:lang=\"en\" id=\"7c1df31933e14b3c88185741b4b55c9c-0\" class=\"displacy\" width=\"2500\" height=\"399.5\" direction=\"ltr\" style=\"max-width: none; height: 399.5px; color: #000000; background: #ffffff; font-family: Arial; direction: ltr\">\n",
              "<text class=\"displacy-token\" fill=\"currentColor\" text-anchor=\"middle\" y=\"309.5\">\n",
              "    <tspan class=\"displacy-word\" fill=\"currentColor\" x=\"50\">London</tspan>\n",
              "    <tspan class=\"displacy-tag\" dy=\"2em\" fill=\"currentColor\" x=\"50\">PROPN</tspan>\n",
              "</text>\n",
              "\n",
              "<text class=\"displacy-token\" fill=\"currentColor\" text-anchor=\"middle\" y=\"309.5\">\n",
              "    <tspan class=\"displacy-word\" fill=\"currentColor\" x=\"225\">is</tspan>\n",
              "    <tspan class=\"displacy-tag\" dy=\"2em\" fill=\"currentColor\" x=\"225\">AUX</tspan>\n",
              "</text>\n",
              "\n",
              "<text class=\"displacy-token\" fill=\"currentColor\" text-anchor=\"middle\" y=\"309.5\">\n",
              "    <tspan class=\"displacy-word\" fill=\"currentColor\" x=\"400\">the</tspan>\n",
              "    <tspan class=\"displacy-tag\" dy=\"2em\" fill=\"currentColor\" x=\"400\">DET</tspan>\n",
              "</text>\n",
              "\n",
              "<text class=\"displacy-token\" fill=\"currentColor\" text-anchor=\"middle\" y=\"309.5\">\n",
              "    <tspan class=\"displacy-word\" fill=\"currentColor\" x=\"575\">capital</tspan>\n",
              "    <tspan class=\"displacy-tag\" dy=\"2em\" fill=\"currentColor\" x=\"575\">NOUN</tspan>\n",
              "</text>\n",
              "\n",
              "<text class=\"displacy-token\" fill=\"currentColor\" text-anchor=\"middle\" y=\"309.5\">\n",
              "    <tspan class=\"displacy-word\" fill=\"currentColor\" x=\"750\">and</tspan>\n",
              "    <tspan class=\"displacy-tag\" dy=\"2em\" fill=\"currentColor\" x=\"750\">CCONJ</tspan>\n",
              "</text>\n",
              "\n",
              "<text class=\"displacy-token\" fill=\"currentColor\" text-anchor=\"middle\" y=\"309.5\">\n",
              "    <tspan class=\"displacy-word\" fill=\"currentColor\" x=\"925\">most</tspan>\n",
              "    <tspan class=\"displacy-tag\" dy=\"2em\" fill=\"currentColor\" x=\"925\">ADV</tspan>\n",
              "</text>\n",
              "\n",
              "<text class=\"displacy-token\" fill=\"currentColor\" text-anchor=\"middle\" y=\"309.5\">\n",
              "    <tspan class=\"displacy-word\" fill=\"currentColor\" x=\"1100\">populous</tspan>\n",
              "    <tspan class=\"displacy-tag\" dy=\"2em\" fill=\"currentColor\" x=\"1100\">ADJ</tspan>\n",
              "</text>\n",
              "\n",
              "<text class=\"displacy-token\" fill=\"currentColor\" text-anchor=\"middle\" y=\"309.5\">\n",
              "    <tspan class=\"displacy-word\" fill=\"currentColor\" x=\"1275\">city</tspan>\n",
              "    <tspan class=\"displacy-tag\" dy=\"2em\" fill=\"currentColor\" x=\"1275\">NOUN</tspan>\n",
              "</text>\n",
              "\n",
              "<text class=\"displacy-token\" fill=\"currentColor\" text-anchor=\"middle\" y=\"309.5\">\n",
              "    <tspan class=\"displacy-word\" fill=\"currentColor\" x=\"1450\">of</tspan>\n",
              "    <tspan class=\"displacy-tag\" dy=\"2em\" fill=\"currentColor\" x=\"1450\">ADP</tspan>\n",
              "</text>\n",
              "\n",
              "<text class=\"displacy-token\" fill=\"currentColor\" text-anchor=\"middle\" y=\"309.5\">\n",
              "    <tspan class=\"displacy-word\" fill=\"currentColor\" x=\"1625\">England</tspan>\n",
              "    <tspan class=\"displacy-tag\" dy=\"2em\" fill=\"currentColor\" x=\"1625\">PROPN</tspan>\n",
              "</text>\n",
              "\n",
              "<text class=\"displacy-token\" fill=\"currentColor\" text-anchor=\"middle\" y=\"309.5\">\n",
              "    <tspan class=\"displacy-word\" fill=\"currentColor\" x=\"1800\">and</tspan>\n",
              "    <tspan class=\"displacy-tag\" dy=\"2em\" fill=\"currentColor\" x=\"1800\">CCONJ</tspan>\n",
              "</text>\n",
              "\n",
              "<text class=\"displacy-token\" fill=\"currentColor\" text-anchor=\"middle\" y=\"309.5\">\n",
              "    <tspan class=\"displacy-word\" fill=\"currentColor\" x=\"1975\">the</tspan>\n",
              "    <tspan class=\"displacy-tag\" dy=\"2em\" fill=\"currentColor\" x=\"1975\">DET</tspan>\n",
              "</text>\n",
              "\n",
              "<text class=\"displacy-token\" fill=\"currentColor\" text-anchor=\"middle\" y=\"309.5\">\n",
              "    <tspan class=\"displacy-word\" fill=\"currentColor\" x=\"2150\">United</tspan>\n",
              "    <tspan class=\"displacy-tag\" dy=\"2em\" fill=\"currentColor\" x=\"2150\">PROPN</tspan>\n",
              "</text>\n",
              "\n",
              "<text class=\"displacy-token\" fill=\"currentColor\" text-anchor=\"middle\" y=\"309.5\">\n",
              "    <tspan class=\"displacy-word\" fill=\"currentColor\" x=\"2325\">Kingdom</tspan>\n",
              "    <tspan class=\"displacy-tag\" dy=\"2em\" fill=\"currentColor\" x=\"2325\">PROPN</tspan>\n",
              "</text>\n",
              "\n",
              "<g class=\"displacy-arrow\">\n",
              "    <path class=\"displacy-arc\" id=\"arrow-7c1df31933e14b3c88185741b4b55c9c-0-0\" stroke-width=\"2px\" d=\"M70,264.5 C70,177.0 215.0,177.0 215.0,264.5\" fill=\"none\" stroke=\"currentColor\"/>\n",
              "    <text dy=\"1.25em\" style=\"font-size: 0.8em; letter-spacing: 1px\">\n",
              "        <textPath xlink:href=\"#arrow-7c1df31933e14b3c88185741b4b55c9c-0-0\" class=\"displacy-label\" startOffset=\"50%\" side=\"left\" fill=\"currentColor\" text-anchor=\"middle\">nsubj</textPath>\n",
              "    </text>\n",
              "    <path class=\"displacy-arrowhead\" d=\"M70,266.5 L62,254.5 78,254.5\" fill=\"currentColor\"/>\n",
              "</g>\n",
              "\n",
              "<g class=\"displacy-arrow\">\n",
              "    <path class=\"displacy-arc\" id=\"arrow-7c1df31933e14b3c88185741b4b55c9c-0-1\" stroke-width=\"2px\" d=\"M420,264.5 C420,177.0 565.0,177.0 565.0,264.5\" fill=\"none\" stroke=\"currentColor\"/>\n",
              "    <text dy=\"1.25em\" style=\"font-size: 0.8em; letter-spacing: 1px\">\n",
              "        <textPath xlink:href=\"#arrow-7c1df31933e14b3c88185741b4b55c9c-0-1\" class=\"displacy-label\" startOffset=\"50%\" side=\"left\" fill=\"currentColor\" text-anchor=\"middle\">det</textPath>\n",
              "    </text>\n",
              "    <path class=\"displacy-arrowhead\" d=\"M420,266.5 L412,254.5 428,254.5\" fill=\"currentColor\"/>\n",
              "</g>\n",
              "\n",
              "<g class=\"displacy-arrow\">\n",
              "    <path class=\"displacy-arc\" id=\"arrow-7c1df31933e14b3c88185741b4b55c9c-0-2\" stroke-width=\"2px\" d=\"M245,264.5 C245,89.5 570.0,89.5 570.0,264.5\" fill=\"none\" stroke=\"currentColor\"/>\n",
              "    <text dy=\"1.25em\" style=\"font-size: 0.8em; letter-spacing: 1px\">\n",
              "        <textPath xlink:href=\"#arrow-7c1df31933e14b3c88185741b4b55c9c-0-2\" class=\"displacy-label\" startOffset=\"50%\" side=\"left\" fill=\"currentColor\" text-anchor=\"middle\">attr</textPath>\n",
              "    </text>\n",
              "    <path class=\"displacy-arrowhead\" d=\"M570.0,266.5 L578.0,254.5 562.0,254.5\" fill=\"currentColor\"/>\n",
              "</g>\n",
              "\n",
              "<g class=\"displacy-arrow\">\n",
              "    <path class=\"displacy-arc\" id=\"arrow-7c1df31933e14b3c88185741b4b55c9c-0-3\" stroke-width=\"2px\" d=\"M595,264.5 C595,177.0 740.0,177.0 740.0,264.5\" fill=\"none\" stroke=\"currentColor\"/>\n",
              "    <text dy=\"1.25em\" style=\"font-size: 0.8em; letter-spacing: 1px\">\n",
              "        <textPath xlink:href=\"#arrow-7c1df31933e14b3c88185741b4b55c9c-0-3\" class=\"displacy-label\" startOffset=\"50%\" side=\"left\" fill=\"currentColor\" text-anchor=\"middle\">cc</textPath>\n",
              "    </text>\n",
              "    <path class=\"displacy-arrowhead\" d=\"M740.0,266.5 L748.0,254.5 732.0,254.5\" fill=\"currentColor\"/>\n",
              "</g>\n",
              "\n",
              "<g class=\"displacy-arrow\">\n",
              "    <path class=\"displacy-arc\" id=\"arrow-7c1df31933e14b3c88185741b4b55c9c-0-4\" stroke-width=\"2px\" d=\"M945,264.5 C945,177.0 1090.0,177.0 1090.0,264.5\" fill=\"none\" stroke=\"currentColor\"/>\n",
              "    <text dy=\"1.25em\" style=\"font-size: 0.8em; letter-spacing: 1px\">\n",
              "        <textPath xlink:href=\"#arrow-7c1df31933e14b3c88185741b4b55c9c-0-4\" class=\"displacy-label\" startOffset=\"50%\" side=\"left\" fill=\"currentColor\" text-anchor=\"middle\">advmod</textPath>\n",
              "    </text>\n",
              "    <path class=\"displacy-arrowhead\" d=\"M945,266.5 L937,254.5 953,254.5\" fill=\"currentColor\"/>\n",
              "</g>\n",
              "\n",
              "<g class=\"displacy-arrow\">\n",
              "    <path class=\"displacy-arc\" id=\"arrow-7c1df31933e14b3c88185741b4b55c9c-0-5\" stroke-width=\"2px\" d=\"M1120,264.5 C1120,177.0 1265.0,177.0 1265.0,264.5\" fill=\"none\" stroke=\"currentColor\"/>\n",
              "    <text dy=\"1.25em\" style=\"font-size: 0.8em; letter-spacing: 1px\">\n",
              "        <textPath xlink:href=\"#arrow-7c1df31933e14b3c88185741b4b55c9c-0-5\" class=\"displacy-label\" startOffset=\"50%\" side=\"left\" fill=\"currentColor\" text-anchor=\"middle\">amod</textPath>\n",
              "    </text>\n",
              "    <path class=\"displacy-arrowhead\" d=\"M1120,266.5 L1112,254.5 1128,254.5\" fill=\"currentColor\"/>\n",
              "</g>\n",
              "\n",
              "<g class=\"displacy-arrow\">\n",
              "    <path class=\"displacy-arc\" id=\"arrow-7c1df31933e14b3c88185741b4b55c9c-0-6\" stroke-width=\"2px\" d=\"M595,264.5 C595,89.5 1270.0,89.5 1270.0,264.5\" fill=\"none\" stroke=\"currentColor\"/>\n",
              "    <text dy=\"1.25em\" style=\"font-size: 0.8em; letter-spacing: 1px\">\n",
              "        <textPath xlink:href=\"#arrow-7c1df31933e14b3c88185741b4b55c9c-0-6\" class=\"displacy-label\" startOffset=\"50%\" side=\"left\" fill=\"currentColor\" text-anchor=\"middle\">conj</textPath>\n",
              "    </text>\n",
              "    <path class=\"displacy-arrowhead\" d=\"M1270.0,266.5 L1278.0,254.5 1262.0,254.5\" fill=\"currentColor\"/>\n",
              "</g>\n",
              "\n",
              "<g class=\"displacy-arrow\">\n",
              "    <path class=\"displacy-arc\" id=\"arrow-7c1df31933e14b3c88185741b4b55c9c-0-7\" stroke-width=\"2px\" d=\"M1295,264.5 C1295,177.0 1440.0,177.0 1440.0,264.5\" fill=\"none\" stroke=\"currentColor\"/>\n",
              "    <text dy=\"1.25em\" style=\"font-size: 0.8em; letter-spacing: 1px\">\n",
              "        <textPath xlink:href=\"#arrow-7c1df31933e14b3c88185741b4b55c9c-0-7\" class=\"displacy-label\" startOffset=\"50%\" side=\"left\" fill=\"currentColor\" text-anchor=\"middle\">prep</textPath>\n",
              "    </text>\n",
              "    <path class=\"displacy-arrowhead\" d=\"M1440.0,266.5 L1448.0,254.5 1432.0,254.5\" fill=\"currentColor\"/>\n",
              "</g>\n",
              "\n",
              "<g class=\"displacy-arrow\">\n",
              "    <path class=\"displacy-arc\" id=\"arrow-7c1df31933e14b3c88185741b4b55c9c-0-8\" stroke-width=\"2px\" d=\"M1470,264.5 C1470,177.0 1615.0,177.0 1615.0,264.5\" fill=\"none\" stroke=\"currentColor\"/>\n",
              "    <text dy=\"1.25em\" style=\"font-size: 0.8em; letter-spacing: 1px\">\n",
              "        <textPath xlink:href=\"#arrow-7c1df31933e14b3c88185741b4b55c9c-0-8\" class=\"displacy-label\" startOffset=\"50%\" side=\"left\" fill=\"currentColor\" text-anchor=\"middle\">pobj</textPath>\n",
              "    </text>\n",
              "    <path class=\"displacy-arrowhead\" d=\"M1615.0,266.5 L1623.0,254.5 1607.0,254.5\" fill=\"currentColor\"/>\n",
              "</g>\n",
              "\n",
              "<g class=\"displacy-arrow\">\n",
              "    <path class=\"displacy-arc\" id=\"arrow-7c1df31933e14b3c88185741b4b55c9c-0-9\" stroke-width=\"2px\" d=\"M1295,264.5 C1295,89.5 1795.0,89.5 1795.0,264.5\" fill=\"none\" stroke=\"currentColor\"/>\n",
              "    <text dy=\"1.25em\" style=\"font-size: 0.8em; letter-spacing: 1px\">\n",
              "        <textPath xlink:href=\"#arrow-7c1df31933e14b3c88185741b4b55c9c-0-9\" class=\"displacy-label\" startOffset=\"50%\" side=\"left\" fill=\"currentColor\" text-anchor=\"middle\">cc</textPath>\n",
              "    </text>\n",
              "    <path class=\"displacy-arrowhead\" d=\"M1795.0,266.5 L1803.0,254.5 1787.0,254.5\" fill=\"currentColor\"/>\n",
              "</g>\n",
              "\n",
              "<g class=\"displacy-arrow\">\n",
              "    <path class=\"displacy-arc\" id=\"arrow-7c1df31933e14b3c88185741b4b55c9c-0-10\" stroke-width=\"2px\" d=\"M1995,264.5 C1995,89.5 2320.0,89.5 2320.0,264.5\" fill=\"none\" stroke=\"currentColor\"/>\n",
              "    <text dy=\"1.25em\" style=\"font-size: 0.8em; letter-spacing: 1px\">\n",
              "        <textPath xlink:href=\"#arrow-7c1df31933e14b3c88185741b4b55c9c-0-10\" class=\"displacy-label\" startOffset=\"50%\" side=\"left\" fill=\"currentColor\" text-anchor=\"middle\">det</textPath>\n",
              "    </text>\n",
              "    <path class=\"displacy-arrowhead\" d=\"M1995,266.5 L1987,254.5 2003,254.5\" fill=\"currentColor\"/>\n",
              "</g>\n",
              "\n",
              "<g class=\"displacy-arrow\">\n",
              "    <path class=\"displacy-arc\" id=\"arrow-7c1df31933e14b3c88185741b4b55c9c-0-11\" stroke-width=\"2px\" d=\"M2170,264.5 C2170,177.0 2315.0,177.0 2315.0,264.5\" fill=\"none\" stroke=\"currentColor\"/>\n",
              "    <text dy=\"1.25em\" style=\"font-size: 0.8em; letter-spacing: 1px\">\n",
              "        <textPath xlink:href=\"#arrow-7c1df31933e14b3c88185741b4b55c9c-0-11\" class=\"displacy-label\" startOffset=\"50%\" side=\"left\" fill=\"currentColor\" text-anchor=\"middle\">compound</textPath>\n",
              "    </text>\n",
              "    <path class=\"displacy-arrowhead\" d=\"M2170,266.5 L2162,254.5 2178,254.5\" fill=\"currentColor\"/>\n",
              "</g>\n",
              "\n",
              "<g class=\"displacy-arrow\">\n",
              "    <path class=\"displacy-arc\" id=\"arrow-7c1df31933e14b3c88185741b4b55c9c-0-12\" stroke-width=\"2px\" d=\"M245,264.5 C245,2.0 2325.0,2.0 2325.0,264.5\" fill=\"none\" stroke=\"currentColor\"/>\n",
              "    <text dy=\"1.25em\" style=\"font-size: 0.8em; letter-spacing: 1px\">\n",
              "        <textPath xlink:href=\"#arrow-7c1df31933e14b3c88185741b4b55c9c-0-12\" class=\"displacy-label\" startOffset=\"50%\" side=\"left\" fill=\"currentColor\" text-anchor=\"middle\">attr</textPath>\n",
              "    </text>\n",
              "    <path class=\"displacy-arrowhead\" d=\"M2325.0,266.5 L2333.0,254.5 2317.0,254.5\" fill=\"currentColor\"/>\n",
              "</g>\n",
              "</svg></span>"
            ],
            "text/plain": [
              "<IPython.core.display.HTML object>"
            ]
          },
          "metadata": {},
          "output_type": "display_data"
        }
      ],
      "source": [
        "from spacy import displacy\n",
        "\n",
        "doc2 = nlp(\"London is the capital and most populous city of England and the United Kingdom\")\n",
        "displacy.render(doc2, jupyter=True, style=\"dep\")"
      ]
    },
    {
      "attachments": {},
      "cell_type": "markdown",
      "metadata": {
        "id": "BhcKxFvisxNj"
      },
      "source": [
        "## Entidades\n",
        "\n",
        "Podemos buscar entidades dentro del texto (nombres propios, países, etc. )"
      ]
    },
    {
      "cell_type": "code",
      "execution_count": 9,
      "metadata": {
        "colab": {
          "base_uri": "https://localhost:8080/"
        },
        "id": "GoUNKXsSsxXy",
        "outputId": "522e7782-4aa7-45e1-ddcc-d1fdd9f6ff72"
      },
      "outputs": [
        {
          "name": "stdout",
          "output_type": "stream",
          "text": [
            "London GPE Countries, cities, states\n",
            "England GPE Countries, cities, states\n",
            "the United Kingdom GPE Countries, cities, states\n",
            "the River Thames LOC Non-GPE locations, mountain ranges, bodies of water\n",
            "south east LOC Non-GPE locations, mountain ranges, bodies of water\n",
            "Great Britain GPE Countries, cities, states\n",
            "London GPE Countries, cities, states\n",
            "two millennia DATE Absolute or relative dates or periods\n",
            "Romans NORP Nationalities or religious or political groups\n",
            "Londinium GPE Countries, cities, states\n"
          ]
        }
      ],
      "source": [
        "for entity in doc.ents:\n",
        "  print(entity.text, entity.label_, spacy.explain(entity.label_))"
      ]
    },
    {
      "cell_type": "markdown",
      "metadata": {},
      "source": [
        "Si tenemos dudas podemos consultar categorías concretas."
      ]
    },
    {
      "cell_type": "code",
      "execution_count": 13,
      "metadata": {
        "colab": {
          "base_uri": "https://localhost:8080/",
          "height": 35
        },
        "id": "8o01ox8YylRj",
        "outputId": "ae38b8fb-6575-4009-96af-80fdb9ab0550"
      },
      "outputs": [
        {
          "data": {
            "text/plain": [
              "'Companies, agencies, institutions, etc.'"
            ]
          },
          "execution_count": 13,
          "metadata": {},
          "output_type": "execute_result"
        }
      ],
      "source": [
        "# Doubts with labels\n",
        "spacy.explain('ORG')"
      ]
    },
    {
      "cell_type": "code",
      "execution_count": 14,
      "metadata": {
        "colab": {
          "base_uri": "https://localhost:8080/",
          "height": 191
        },
        "id": "UwfOcDgCtEue",
        "outputId": "eadd1e47-cebe-453a-808a-35d2904aec5b"
      },
      "outputs": [
        {
          "data": {
            "text/html": [
              "<span class=\"tex2jax_ignore\"><div class=\"entities\" style=\"line-height: 2.5; direction: ltr\"><br>\n",
              "<mark class=\"entity\" style=\"background: #feca74; padding: 0.45em 0.6em; margin: 0 0.25em; line-height: 1; border-radius: 0.35em;\">\n",
              "    London\n",
              "    <span style=\"font-size: 0.8em; font-weight: bold; line-height: 1; border-radius: 0.35em; vertical-align: middle; margin-left: 0.5rem\">GPE</span>\n",
              "</mark>\n",
              " is the capital and most populous city of \n",
              "<mark class=\"entity\" style=\"background: #feca74; padding: 0.45em 0.6em; margin: 0 0.25em; line-height: 1; border-radius: 0.35em;\">\n",
              "    England\n",
              "    <span style=\"font-size: 0.8em; font-weight: bold; line-height: 1; border-radius: 0.35em; vertical-align: middle; margin-left: 0.5rem\">GPE</span>\n",
              "</mark>\n",
              " and <br>\n",
              "<mark class=\"entity\" style=\"background: #feca74; padding: 0.45em 0.6em; margin: 0 0.25em; line-height: 1; border-radius: 0.35em;\">\n",
              "    the United Kingdom\n",
              "    <span style=\"font-size: 0.8em; font-weight: bold; line-height: 1; border-radius: 0.35em; vertical-align: middle; margin-left: 0.5rem\">GPE</span>\n",
              "</mark>\n",
              ".  Standing on \n",
              "<mark class=\"entity\" style=\"background: #ff9561; padding: 0.45em 0.6em; margin: 0 0.25em; line-height: 1; border-radius: 0.35em;\">\n",
              "    the River Thames\n",
              "    <span style=\"font-size: 0.8em; font-weight: bold; line-height: 1; border-radius: 0.35em; vertical-align: middle; margin-left: 0.5rem\">LOC</span>\n",
              "</mark>\n",
              " in the \n",
              "<mark class=\"entity\" style=\"background: #ff9561; padding: 0.45em 0.6em; margin: 0 0.25em; line-height: 1; border-radius: 0.35em;\">\n",
              "    south east\n",
              "    <span style=\"font-size: 0.8em; font-weight: bold; line-height: 1; border-radius: 0.35em; vertical-align: middle; margin-left: 0.5rem\">LOC</span>\n",
              "</mark>\n",
              " <br>of the island of \n",
              "<mark class=\"entity\" style=\"background: #feca74; padding: 0.45em 0.6em; margin: 0 0.25em; line-height: 1; border-radius: 0.35em;\">\n",
              "    Great Britain\n",
              "    <span style=\"font-size: 0.8em; font-weight: bold; line-height: 1; border-radius: 0.35em; vertical-align: middle; margin-left: 0.5rem\">GPE</span>\n",
              "</mark>\n",
              ", \n",
              "<mark class=\"entity\" style=\"background: #feca74; padding: 0.45em 0.6em; margin: 0 0.25em; line-height: 1; border-radius: 0.35em;\">\n",
              "    London\n",
              "    <span style=\"font-size: 0.8em; font-weight: bold; line-height: 1; border-radius: 0.35em; vertical-align: middle; margin-left: 0.5rem\">GPE</span>\n",
              "</mark>\n",
              " has been a major settlement <br>for \n",
              "<mark class=\"entity\" style=\"background: #bfe1d9; padding: 0.45em 0.6em; margin: 0 0.25em; line-height: 1; border-radius: 0.35em;\">\n",
              "    two millennia\n",
              "    <span style=\"font-size: 0.8em; font-weight: bold; line-height: 1; border-radius: 0.35em; vertical-align: middle; margin-left: 0.5rem\">DATE</span>\n",
              "</mark>\n",
              ". It was founded by the \n",
              "<mark class=\"entity\" style=\"background: #c887fb; padding: 0.45em 0.6em; margin: 0 0.25em; line-height: 1; border-radius: 0.35em;\">\n",
              "    Romans\n",
              "    <span style=\"font-size: 0.8em; font-weight: bold; line-height: 1; border-radius: 0.35em; vertical-align: middle; margin-left: 0.5rem\">NORP</span>\n",
              "</mark>\n",
              ", who named it \n",
              "<mark class=\"entity\" style=\"background: #feca74; padding: 0.45em 0.6em; margin: 0 0.25em; line-height: 1; border-radius: 0.35em;\">\n",
              "    Londinium\n",
              "    <span style=\"font-size: 0.8em; font-weight: bold; line-height: 1; border-radius: 0.35em; vertical-align: middle; margin-left: 0.5rem\">GPE</span>\n",
              "</mark>\n",
              ".<br></div></span>"
            ],
            "text/plain": [
              "<IPython.core.display.HTML object>"
            ]
          },
          "metadata": {},
          "output_type": "display_data"
        }
      ],
      "source": [
        "displacy.render(doc, style='ent', jupyter=True)"
      ]
    },
    {
      "attachments": {},
      "cell_type": "markdown",
      "metadata": {
        "id": "k4J_qGHusl9H"
      },
      "source": [
        "## Reemplazando nombres\n",
        "\n",
        "Ocultamos nombres para aumentar cumplimiento del Reglamento General de Protección de Datos (no será suficiente pero ayuda)."
      ]
    },
    {
      "cell_type": "code",
      "execution_count": 16,
      "metadata": {
        "colab": {
          "base_uri": "https://localhost:8080/"
        },
        "id": "8zHtOLvSsmEp",
        "outputId": "99bd35f8-5eff-4622-f119-5b8bd6426e0f"
      },
      "outputs": [
        {
          "name": "stdout",
          "output_type": "stream",
          "text": [
            "\n",
            " In 1950 , HIDDEN published his famous article \" Computing Machinery and Intelligence \" . In 1957 , HIDDEN ’s \n",
            " Syntactic Structures revolutionized Linguistics with ' universal grammar ' , a rule based system of syntactic structures . \n",
            "\n"
          ]
        }
      ],
      "source": [
        "# Replace a token with \"REDACTED\" if it is a name\n",
        "def replace_name_with_placeholder(token):\n",
        "    if token.ent_iob != 0 and token.ent_type_ == \"PERSON\":\n",
        "        return \"HIDDEN\"\n",
        "    else:\n",
        "        return token.text\n",
        "\n",
        "# Loop through all the entities in a document and check if they are names\n",
        "def scrub(text):\n",
        "    doc = nlp(text)\n",
        "    with doc.retokenize() as retokenizer:\n",
        "        for ent in doc.ents:\n",
        "            retokenizer.merge(ent)\n",
        "    tokens = map(replace_name_with_placeholder, doc)\n",
        "    return \" \".join(tokens)\n",
        "\n",
        "s = \"\"\"\n",
        "In 1950, Alan Turing published his famous article \"Computing Machinery and Intelligence\". In 1957, Noam Chomsky’s \n",
        "Syntactic Structures revolutionized Linguistics with 'universal grammar', a rule based system of syntactic structures.\n",
        "\"\"\"\n",
        "\n",
        "print(scrub(s))"
      ]
    },
    {
      "attachments": {},
      "cell_type": "markdown",
      "metadata": {
        "id": "oGvpaIAqzwOH"
      },
      "source": [
        "## Lematización"
      ]
    },
    {
      "cell_type": "code",
      "execution_count": 17,
      "metadata": {
        "colab": {
          "base_uri": "https://localhost:8080/"
        },
        "id": "iKra7djBzwXj",
        "outputId": "a1e019b7-3aad-40d1-e5b2-a4203c49f250"
      },
      "outputs": [
        {
          "name": "stdout",
          "output_type": "stream",
          "text": [
            "\n",
            " \n",
            " SPACE\n",
            "London London PROPN\n",
            "is be AUX\n",
            "the the DET\n",
            "capital capital NOUN\n",
            "and and CCONJ\n",
            "most most ADV\n",
            "populous populous ADJ\n",
            "city city NOUN\n",
            "of of ADP\n",
            "England England PROPN\n",
            "and and CCONJ\n",
            "\n",
            " \n",
            " SPACE\n",
            "the the DET\n",
            "United United PROPN\n",
            "Kingdom Kingdom PROPN\n",
            ". . PUNCT\n",
            "    SPACE\n",
            "Standing stand VERB\n",
            "on on ADP\n",
            "the the DET\n",
            "River River PROPN\n",
            "Thames Thames PROPN\n",
            "in in ADP\n",
            "the the DET\n",
            "south south PROPN\n",
            "east east PROPN\n",
            "\n",
            " \n",
            " SPACE\n",
            "of of ADP\n",
            "the the DET\n",
            "island island NOUN\n",
            "of of ADP\n",
            "Great Great PROPN\n",
            "Britain Britain PROPN\n",
            ", , PUNCT\n",
            "London London PROPN\n",
            "has have AUX\n",
            "been be AUX\n",
            "a a DET\n",
            "major major ADJ\n",
            "settlement settlement NOUN\n",
            "\n",
            " \n",
            " SPACE\n",
            "for for ADP\n",
            "two two NUM\n",
            "millennia millennium NOUN\n",
            ". . PUNCT\n",
            "It it PRON\n",
            "was be AUX\n",
            "founded found VERB\n",
            "by by ADP\n",
            "the the DET\n",
            "Romans Romans PROPN\n",
            ", , PUNCT\n",
            "who who PRON\n",
            "named name VERB\n",
            "it it PRON\n",
            "Londinium Londinium PROPN\n",
            ". . PUNCT\n",
            "\n",
            " \n",
            " SPACE\n"
          ]
        }
      ],
      "source": [
        "for w in doc:\n",
        "  print(w.text, w.lemma_, w.pos_)"
      ]
    },
    {
      "attachments": {},
      "cell_type": "markdown",
      "metadata": {
        "id": "o_e1pnbgz_0X"
      },
      "source": [
        "## Stopwords"
      ]
    },
    {
      "cell_type": "code",
      "execution_count": 18,
      "metadata": {
        "colab": {
          "base_uri": "https://localhost:8080/"
        },
        "id": "j_M6OKU3z__q",
        "outputId": "701e21b9-d50e-4903-ca0e-c73746e56180"
      },
      "outputs": [
        {
          "name": "stdout",
          "output_type": "stream",
          "text": [
            "['also', 'thru', 'should', 'same', 'moreover', 'except', 'often', 'two', 'am', 'hereupon', 'n’t', 'whereupon', 'will', 'out', 'ten', 'such', 'via', 'here', 'cannot', 're']\n"
          ]
        }
      ],
      "source": [
        "from spacy.lang.en.stop_words import STOP_WORDS\n",
        "\n",
        "print(list(STOP_WORDS)[:20])"
      ]
    },
    {
      "cell_type": "code",
      "execution_count": 19,
      "metadata": {
        "colab": {
          "base_uri": "https://localhost:8080/"
        },
        "id": "RXNvYLeD0QJ0",
        "outputId": "48725150-7661-4395-a27c-2a4782b52da4"
      },
      "outputs": [
        {
          "name": "stdout",
          "output_type": "stream",
          "text": [
            "[\n",
            ", London, capital, populous, city, England, \n",
            ", United, Kingdom,  , Standing, River, Thames, south, east, \n",
            ", island, Great, Britain, London, major, settlement, \n",
            ", millennia, founded, Romans, named, Londinium, \n",
            "]\n"
          ]
        }
      ],
      "source": [
        "lista_clean = [palabra for palabra in doc if not palabra.is_stop and not palabra.is_punct]\n",
        "print(lista_clean)"
      ]
    },
    {
      "attachments": {},
      "cell_type": "markdown",
      "metadata": {
        "id": "_3oBFA3XacUf"
      },
      "source": [
        "# En Español, please"
      ]
    },
    {
      "cell_type": "code",
      "execution_count": 20,
      "metadata": {
        "colab": {
          "base_uri": "https://localhost:8080/"
        },
        "id": "WyDUzV-eax_7",
        "outputId": "e4575ab9-ce92-4d3c-a20d-a4b297eab994"
      },
      "outputs": [
        {
          "name": "stdout",
          "output_type": "stream",
          "text": [
            "Londres (LOC)\n",
            "London (LOC)\n",
            "Inglaterra (LOC)\n",
            "Reino Unido.2​3​ Situada (LOC)\n",
            "Támesis (LOC)\n",
            "Londres (LOC)\n",
            "Londinium (LOC)\n",
            "City de Londres (LOC)\n",
            "Londres (LOC)\n",
            "Londres (LOC)\n",
            "Gran Londres,6​ (LOC)\n",
            "Londres (LOC)\n",
            "mundo9​10​11​ (LOC)\n",
            "Londres (LOC)\n",
            "Londres (LOC)\n",
            "Juegos Olímpicos de Verano.21​\n",
            "En esta ciudad multirracial (MISC)\n",
            "La Autoridad del Gran Londres (MISC)\n",
            "Reino Unido.24​ El área urbana del (LOC)\n",
            "Gran Londres (LOC)\n",
            "Europa (LOC)\n",
            "millones,26​27​ (PER)\n",
            "Londres (LOC)\n",
            "Imperio británico (LOC)\n"
          ]
        }
      ],
      "source": [
        "nlp_es = spacy.load('es_core_news_lg')\n",
        "\n",
        "text = '''Londres (en inglés, London, pronunciado /ˈlʌndən/ ( escuchar)) es la capital y mayor ciudad de Inglaterra y del Reino Unido.2​3​ Situada a orillas del río Támesis, Londres es un importante asentamiento humano desde que fue fundada por los romanos con el nombre de Londinium hace casi dos milenios.4​ El núcleo antiguo de la urbe, la City de Londres, conserva básicamente su perímetro medieval de una milla cuadrada. Desde el siglo XIX el nombre «Londres» también hace referencia a toda la metrópolis desarrollada alrededor de este núcleo.5​ El grueso de esta conurbación forma la región de Londres y el área administrativa del Gran Londres,6​ gobernado por el alcalde y la asamblea de Londres.7​\n",
        "Londres es una ciudad global, uno de los centros neurálgicos en el ámbito de las artes, el comercio, la educación, el entretenimiento, la moda, las finanzas, los medios de comunicación, la investigación, el turismo o el transporte.8​ Es el principal centro financiero del mundo9​10​11​ y una de las áreas metropolitanas con mayor PIB.12​13​ Londres es también una capital cultural mundial,14​15​16​17​ la ciudad más visitada considerando el número de visitas internacionales18​ y tiene el mayor sistema aeroportuario del mundo según el tráfico de pasajeros.19​ Asimismo, las 43 universidades de la ciudad conforman la mayor concentración de centros de estudios superiores de toda Europa.20​ En el año 2012 Londres se convirtió en la única ciudad en albergar la celebración de tres Juegos Olímpicos de Verano.21​\n",
        "En esta ciudad multirracial convive gente de un gran número de culturas que hablan más de trescientos idiomas distintos.22​ La Autoridad del Gran Londres estima que en 2015 la ciudad tiene 8,63 millones de habitantes,23​ que supone el 12,5 % del total de habitantes del Reino Unido.24​ El área urbana del Gran Londres, con 10 470 00025​ habitantes, es la segunda más grande de Europa, pero su área metropolitana, con una población estimada de entre 12 y 14 millones,26​27​ es la mayor del continente. Desde 1831 a 1925 Londres, como capital del Imperio británico, fue la ciudad más poblada del mundo.'''\n",
        "doc = nlp_es(text)\n",
        "\n",
        "# Para ver las entidades que ha detectado\n",
        "for entity in doc.ents:\n",
        "    print(f\"{entity.text} ({entity.label_})\")"
      ]
    },
    {
      "cell_type": "code",
      "execution_count": 21,
      "metadata": {},
      "outputs": [
        {
          "data": {
            "text/plain": [
              "'Miscellaneous entities, e.g. events, nationalities, products or works of art'"
            ]
          },
          "execution_count": 21,
          "metadata": {},
          "output_type": "execute_result"
        }
      ],
      "source": [
        "# Doubts with labels\n",
        "spacy.explain('MISC')"
      ]
    },
    {
      "attachments": {},
      "cell_type": "markdown",
      "metadata": {
        "id": "5GwuAvRS1TLb"
      },
      "source": [
        "## Palabras frecuentes\n",
        "\n",
        "Podemos probar con información de la Wikipedia. Para ello necesitaremos... una librería :D"
      ]
    },
    {
      "cell_type": "code",
      "execution_count": 23,
      "metadata": {},
      "outputs": [],
      "source": [
        "# !pip install wikipedia"
      ]
    },
    {
      "cell_type": "code",
      "execution_count": 24,
      "metadata": {},
      "outputs": [
        {
          "data": {
            "text/plain": [
              "['todo',\n",
              " 'estado',\n",
              " 'vaya',\n",
              " 'aproximadamente',\n",
              " 'alguno',\n",
              " 'aquella',\n",
              " 'cuatro',\n",
              " 'dia',\n",
              " 'toda',\n",
              " 'verdadera',\n",
              " 'habia',\n",
              " 'pesar',\n",
              " 'informo',\n",
              " 'ciertas',\n",
              " 'al',\n",
              " 'tanto',\n",
              " 'embargo',\n",
              " 'posible',\n",
              " 'sino',\n",
              " 'estados']"
            ]
          },
          "execution_count": 24,
          "metadata": {},
          "output_type": "execute_result"
        }
      ],
      "source": [
        "from spacy.lang.es.stop_words import STOP_WORDS\n",
        "\n",
        "list(STOP_WORDS)[:20]"
      ]
    },
    {
      "cell_type": "code",
      "execution_count": 27,
      "metadata": {
        "colab": {
          "base_uri": "https://localhost:8080/",
          "height": 174
        },
        "id": "zmuqxci01TTh",
        "outputId": "8f5d5796-9ab8-4b8b-d89c-2c6f17e89442"
      },
      "outputs": [
        {
          "data": {
            "text/plain": [
              "'Katalin Karikó (en húngaro: Karikó Katalin; Szolnok, 17 de enero de 1955)[1]\\u200b es una bioquímica húngara especializada en mecanismos mediadores de ARN. Su investigación ha sido el desarrollo de ARNm transcrito in vitro para terapias de proteínas. Es vicepresidenta sénior de BioNTech RNA Pharmaceuticals. \\nEl trabajo de Karikó incluye la investigación científica de la activación inmune mediada por ARN que resulta en el co-descubrimiento con Drew Weissman de las modificaciones de nucleósidos que suprimen la inmunogenicidad del ARN.[2]\\u200b[3]\\u200b Se considera que esto permite el uso terapéutico del ARNm.[4]\\u200b Junto a Weissman recibió el Premio Nobel de Medicina en 2023 y es titular de patentes concedidas en los Estados Unidos para la aplicación de ARN no inmunogénico modificado por nucleósidos. Esta tecnología ha sido licenciada por BioNTech y Moderna para desarrollar las vacunas COVID-19.[5]\\u200b Fue cofundadora y CEO de RNARx de 2006 a 2013.[6]\\u200b Karikó es la madre de la dos veces medallista de oro o'"
            ]
          },
          "execution_count": 27,
          "metadata": {},
          "output_type": "execute_result"
        }
      ],
      "source": [
        "import wikipedia\n",
        "wikipedia.set_lang(\"es\")\n",
        "\n",
        "katalin = wikipedia.page(title=\"Katalin Kariko\")\n",
        "text = katalin.content\n",
        "text[0:1000]"
      ]
    },
    {
      "cell_type": "code",
      "execution_count": 28,
      "metadata": {
        "colab": {
          "base_uri": "https://localhost:8080/"
        },
        "id": "w8s0R3vU3NAZ",
        "outputId": "3c71df2d-5abe-488f-fb50-fbe8b242e97a"
      },
      "outputs": [
        {
          "data": {
            "text/plain": [
              "['investigación',\n",
              " 'vicepresidenta',\n",
              " 'con',\n",
              " 'considera',\n",
              " 'recibió',\n",
              " 'patentes',\n",
              " 'cofundadora',\n",
              " 'veces',\n",
              " 'continuó',\n",
              " 'enfermedades']"
            ]
          },
          "execution_count": 28,
          "metadata": {},
          "output_type": "execute_result"
        }
      ],
      "source": [
        "nombres = [w.text for w in nlp(text) if ((not w.is_stop) and (not w.is_punct) and (w.pos_ == 'NOUN'))]\n",
        "nombres[:10]"
      ]
    },
    {
      "cell_type": "code",
      "execution_count": 29,
      "metadata": {},
      "outputs": [
        {
          "data": {
            "text/plain": [
              "[('vicepresidenta', 1),\n",
              " ('con', 1),\n",
              " ('considera', 1),\n",
              " ('recibió', 1),\n",
              " ('patentes', 1),\n",
              " ('cofundadora', 1),\n",
              " ('veces', 1),\n",
              " ('continuó', 1),\n",
              " ('enfermedades', 1)]"
            ]
          },
          "execution_count": 29,
          "metadata": {},
          "output_type": "execute_result"
        }
      ],
      "source": [
        "from collections import Counter\n",
        "word_freq = Counter(nombres)\n",
        "\n",
        "word_freq.most_common(10)[1:]"
      ]
    },
    {
      "cell_type": "code",
      "execution_count": 30,
      "metadata": {},
      "outputs": [
        {
          "data": {
            "text/plain": [
              "['incluir',\n",
              " 'resultar',\n",
              " 'suprimir',\n",
              " 'permitir',\n",
              " 'recibir',\n",
              " 'licenciar',\n",
              " 'desarrollar',\n",
              " 'crecer',\n",
              " 'asistir',\n",
              " 'obtener']"
            ]
          },
          "execution_count": 30,
          "metadata": {},
          "output_type": "execute_result"
        }
      ],
      "source": [
        "nombres = [w.lemma_ for w in nlp_es(text) if ((not w.is_stop) and (not w.is_punct) and (w.pos_ == 'VERB'))]\n",
        "nombres[:10]"
      ]
    },
    {
      "cell_type": "code",
      "execution_count": 31,
      "metadata": {
        "colab": {
          "base_uri": "https://localhost:8080/"
        },
        "id": "C0D-pRly22_H",
        "outputId": "5bc9c178-6438-40ac-b2a6-ece714865a69"
      },
      "outputs": [
        {
          "data": {
            "text/plain": [
              "[('permitir', 3),\n",
              " ('desarrollar', 3),\n",
              " ('producir', 3),\n",
              " ('comprender', 3),\n",
              " ('incluir', 2),\n",
              " ('licenciar', 2),\n",
              " ('tratar', 2),\n",
              " ('reducir', 2),\n",
              " ('fundar', 2)]"
            ]
          },
          "execution_count": 31,
          "metadata": {},
          "output_type": "execute_result"
        }
      ],
      "source": [
        "from collections import Counter\n",
        "word_freq = Counter(nombres)\n",
        "\n",
        "word_freq.most_common(10)[1:]"
      ]
    },
    {
      "attachments": {},
      "cell_type": "markdown",
      "metadata": {
        "id": "xWDuikM7VJtc"
      },
      "source": [
        "## Textacy London\n",
        "\n",
        "Textacy ofrece una capa simplificada por encima de SpaCy de manera que es más sencillo interactuar y preguntar al texto: https://textacy.readthedocs.io/en/latest/"
      ]
    },
    {
      "cell_type": "code",
      "execution_count": 42,
      "metadata": {
        "colab": {
          "base_uri": "https://localhost:8080/"
        },
        "id": "qOiN7HAmvNV2",
        "outputId": "cc8d904b-3cc0-4588-f6d5-95ce6ad6fe7a"
      },
      "outputs": [
        {
          "name": "stdout",
          "output_type": "stream",
          "text": [
            "Here are the things I know about London:\n",
            " - [the, capital, and, most, populous, city, of, England, and, the, United, Kingdom]\n",
            " - [a, major, settlement, for, two, millennia]\n",
            " - [a, huge, city]\n"
          ]
        }
      ],
      "source": [
        "# import spacy\n",
        "import textacy.extract\n",
        "\n",
        "# The text we want to examine\n",
        "text = \"\"\"London is the capital and most populous city of England and the United Kingdom. Standing on the River Thames in the south east of the island of Great Britain, London has been a major settlement for two millennia. London was founded by the Romans, \n",
        "who named it Londinium. London is a huge city. London has a lot of cute restaurants.\n",
        "\"\"\"\n",
        "\n",
        "doc = nlp(text)\n",
        "statements = textacy.extract.semistructured_statements(doc, entity=\"London\", cue='be')\n",
        "\n",
        "# Print the results\n",
        "print(\"Here are the things I know about London:\")\n",
        "\n",
        "for statement in statements:\n",
        "    subject, verb, fact = statement\n",
        "    print(f\" - {fact}\")\n"
      ]
    },
    {
      "attachments": {},
      "cell_type": "markdown",
      "metadata": {
        "id": "hFwnqZzIaSNQ"
      },
      "source": [
        "## Textacy + Wikipedia API\n",
        "\n",
        "Con la API de Wikipedia"
      ]
    },
    {
      "cell_type": "code",
      "execution_count": 46,
      "metadata": {
        "id": "za6v7SL_2Ywo"
      },
      "outputs": [],
      "source": [
        "wikipedia.set_lang(\"en\")\n",
        "london = wikipedia.page(\"London\")\n",
        "text = london.content"
      ]
    },
    {
      "cell_type": "code",
      "execution_count": 47,
      "metadata": {
        "colab": {
          "base_uri": "https://localhost:8080/"
        },
        "id": "NwOqJO902pO6",
        "outputId": "9d856c03-1993-4c18-976a-39a58d7680a3"
      },
      "outputs": [
        {
          "name": "stdout",
          "output_type": "stream",
          "text": [
            "Here are the things I know about London:\n",
            " - [the, world, 's, oldest, rapid, transit, system]\n",
            " - [the, oldest, and, third, longest, metro, system, in, the, world]\n"
          ]
        }
      ],
      "source": [
        "doc = nlp(text)\n",
        "\n",
        "# Extract semi-structured statements\n",
        "statements = textacy.extract.semistructured_statements(doc, entity=\"London Underground\", cue='be')\n",
        "\n",
        "# Print the results\n",
        "print(\"Here are the things I know about London:\")\n",
        "\n",
        "for statement in statements:\n",
        "    subject, verb, fact = statement\n",
        "    print(f\" - {fact}\")"
      ]
    }
  ],
  "metadata": {
    "colab": {
      "collapsed_sections": [],
      "name": "Textacy_y_spacy.ipynb",
      "provenance": []
    },
    "kernelspec": {
      "display_name": "Python 3.7.4 64-bit",
      "language": "python",
      "name": "python3"
    },
    "language_info": {
      "codemirror_mode": {
        "name": "ipython",
        "version": 3
      },
      "file_extension": ".py",
      "mimetype": "text/x-python",
      "name": "python",
      "nbconvert_exporter": "python",
      "pygments_lexer": "ipython3",
      "version": "3.11.9"
    },
    "vscode": {
      "interpreter": {
        "hash": "90139cb9a825bf3d63f6f6704e828dbd1ff7edbd4d0c6e906a71235d6efc74af"
      }
    }
  },
  "nbformat": 4,
  "nbformat_minor": 0
}
