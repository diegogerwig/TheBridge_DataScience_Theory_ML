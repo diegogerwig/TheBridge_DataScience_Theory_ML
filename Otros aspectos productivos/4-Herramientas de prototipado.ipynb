{
 "cells": [
  {
   "cell_type": "markdown",
   "metadata": {},
   "source": [
    "# Prototipado\n",
    "\n",
    "No somos desarrolladores. Sabemos construir modelos basados en Python y podemos hacer algo de código pero construir una aplicación que muestre a los usuarios finales que pinta podría tener una aplicación que use nuestro modelo a veces puede ser todo un reto.\n",
    "\n",
    "No podemos enseñarles simples notebooks con código a nuestros clientes. Hay parte que podemos aterrizar en una presentación pero queremos que no tengan que usar demasiado su imaginación y poner nuestro modelo en términos que ellos puedan entender.\n",
    "\n",
    "Dada esta necesidad se han creado librerías/frameworks de Python que nos permiten desarrollar interfaces simples y mostrar qué pinta tendría nuestro modelo una vez puesto en marcha.\n",
    "\n",
    "## Streamlit\n",
    "\n",
    "Quizás la más popular, cuenta con una base de usuarios muy amplia y permite realizar cosas muy complejas de forma sencilla. Fue adquirida por Snowflake hace pocos años debido a su potencial y por eso disponéis de una sección dedicada a apps en la consola de Snowflake.\n",
    "\n",
    "![streamlit](img/sis-example-app.png)\n",
    "\n",
    "Referencia: https://docs.snowflake.com/en/developer-guide/streamlit/about-streamlit\n",
    "\n",
    "Se basa en crear un simple script (llameémosle _app.py_) e importar la librería `streamlit`.\n",
    "\n",
    "```py\n",
    "import streamlit as st\n",
    "\n",
    "st.write(\"\"\"\n",
    "\n",
    "# Welcome!\n",
    "\n",
    "This is my first app.\n",
    "\n",
    "\"\"\")\n",
    "```\n",
    "\n",
    "Lanzando la aplicación podremos crear una página web que nos transformará el código markdown en código HTML para que nuestro navegador pueda visualizarlo. Podemos ver ejemplos de los comandos disponibles en la documentación de streamlit: https://docs.streamlit.io/get-started/installation\n",
    "\n",
    "Quizás una de las formas más sencillas de familiarizarse es mediante la galería de Apps: https://streamlit.io/gallery"
   ]
  },
  {
   "cell_type": "markdown",
   "metadata": {},
   "source": [
    "## Gradio\n",
    "\n",
    "Quizás algo más sencillo que Streamlit, Gradio se creo con el foco puesto en modelos de Machine Learning y fue muy respaldado por comunidades como HuggingFace donde se emplea para la sección de aplicaciones (Spaces) que esta alberga.\n",
    "\n",
    "![grad](img/gradio.png)\n",
    "\n",
    "A diferencia de Streamlit, Gradio si que permite ser embebido en un notebook de forma sencilla."
   ]
  },
  {
   "cell_type": "code",
   "execution_count": 2,
   "metadata": {},
   "outputs": [],
   "source": [
    "# !pip install gradio"
   ]
  },
  {
   "cell_type": "code",
   "execution_count": 3,
   "metadata": {},
   "outputs": [
    {
     "name": "stdout",
     "output_type": "stream",
     "text": [
      "Running on local URL:  http://127.0.0.1:7860\n",
      "\n",
      "To create a public link, set `share=True` in `launch()`.\n"
     ]
    },
    {
     "data": {
      "text/html": [
       "<div><iframe src=\"http://127.0.0.1:7860/\" width=\"100%\" height=\"500\" allow=\"autoplay; camera; microphone; clipboard-read; clipboard-write;\" frameborder=\"0\" allowfullscreen></iframe></div>"
      ],
      "text/plain": [
       "<IPython.core.display.HTML object>"
      ]
     },
     "metadata": {},
     "output_type": "display_data"
    },
    {
     "data": {
      "text/plain": []
     },
     "execution_count": 3,
     "metadata": {},
     "output_type": "execute_result"
    }
   ],
   "source": [
    "import gradio as gr\n",
    "\n",
    "def greet(name, intensity):\n",
    "    return \"Hello, \" + name + \"!\" * int(intensity)\n",
    "\n",
    "demo = gr.Interface(\n",
    "    fn=greet,\n",
    "    inputs=[\"text\", \"slider\"],\n",
    "    outputs=[\"text\"],\n",
    ")\n",
    "\n",
    "demo.launch()"
   ]
  },
  {
   "cell_type": "markdown",
   "metadata": {},
   "source": [
    "Pero como veis se trata de un servicio desplegado que emplea el puerto 7860 para publicar nuestra aplicación. Siempre dispone de un botón Submit ya que entiende que se trata de una aplicación que recibe algo de información y publica una respuesta.\n",
    "\n",
    "En este mismo puerto se expone una API destinada al consumo programático del mismo recurso."
   ]
  },
  {
   "cell_type": "code",
   "execution_count": 4,
   "metadata": {},
   "outputs": [
    {
     "name": "stdout",
     "output_type": "stream",
     "text": [
      "Loaded as API: http://127.0.0.1:7860/ ✔\n",
      "Hello, iraitz!!!\n"
     ]
    }
   ],
   "source": [
    "from gradio_client import Client\n",
    "\n",
    "client = Client(\"http://127.0.0.1:7860/\")\n",
    "result = client.predict(\n",
    "\t\tname=\"iraitz\",\n",
    "\t\tintensity=3,\n",
    "\t\tapi_name=\"/predict\"\n",
    ")\n",
    "print(result)"
   ]
  },
  {
   "cell_type": "markdown",
   "metadata": {},
   "source": [
    "De modo que es muy sencillo contar con una aplicación que nos de las piezas básicas necesarias a la hora de exponer un modelo capaz de predecir o clasificar una muestra. Tenéis una guía sencilla de uso en la siguiente ubicación:\n",
    "\n",
    "https://www.machinelearningnuggets.com/gradio-tutorial/\n",
    "\n",
    "No os olvidéis de parar el servidor para que no consuma recursos o se quede como un proceso zombie en vuestra máquina."
   ]
  },
  {
   "cell_type": "code",
   "execution_count": 5,
   "metadata": {},
   "outputs": [
    {
     "name": "stdout",
     "output_type": "stream",
     "text": [
      "Closing server running on port: 7860\n"
     ]
    }
   ],
   "source": [
    "demo.close()"
   ]
  }
 ],
 "metadata": {
  "kernelspec": {
   "display_name": ".venv",
   "language": "python",
   "name": "python3"
  },
  "language_info": {
   "codemirror_mode": {
    "name": "ipython",
    "version": 3
   },
   "file_extension": ".py",
   "mimetype": "text/x-python",
   "name": "python",
   "nbconvert_exporter": "python",
   "pygments_lexer": "ipython3",
   "version": "3.11.9"
  }
 },
 "nbformat": 4,
 "nbformat_minor": 2
}
